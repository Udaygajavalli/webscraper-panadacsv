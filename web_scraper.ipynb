{
  "nbformat": 4,
  "nbformat_minor": 0,
  "metadata": {
    "colab": {
      "name": "web-scraper.ipynb",
      "provenance": [],
      "collapsed_sections": []
    },
    "kernelspec": {
      "name": "python3",
      "display_name": "Python 3"
    }
  },
  "cells": [
    {
      "cell_type": "code",
      "metadata": {
        "id": "uXa5oOCjZP-V",
        "colab_type": "code",
        "outputId": "f072f6fd-2f9b-4e52-ccd9-16a91edd2be9",
        "colab": {
          "base_uri": "https://localhost:8080/",
          "height": 101
        }
      },
      "source": [
        "pip install requests"
      ],
      "execution_count": 0,
      "outputs": [
        {
          "output_type": "stream",
          "text": [
            "Requirement already satisfied: requests in /usr/local/lib/python3.6/dist-packages (2.21.0)\n",
            "Requirement already satisfied: certifi>=2017.4.17 in /usr/local/lib/python3.6/dist-packages (from requests) (2020.4.5.1)\n",
            "Requirement already satisfied: idna<2.9,>=2.5 in /usr/local/lib/python3.6/dist-packages (from requests) (2.8)\n",
            "Requirement already satisfied: urllib3<1.25,>=1.21.1 in /usr/local/lib/python3.6/dist-packages (from requests) (1.24.3)\n",
            "Requirement already satisfied: chardet<3.1.0,>=3.0.2 in /usr/local/lib/python3.6/dist-packages (from requests) (3.0.4)\n"
          ],
          "name": "stdout"
        }
      ]
    },
    {
      "cell_type": "code",
      "metadata": {
        "id": "nAXvhr-ZbLCL",
        "colab_type": "code",
        "outputId": "7363b59e-38e8-4801-f67d-bac194c4e615",
        "colab": {
          "base_uri": "https://localhost:8080/",
          "height": 34
        }
      },
      "source": [
        "pip install beautifulsoup4"
      ],
      "execution_count": 0,
      "outputs": [
        {
          "output_type": "stream",
          "text": [
            "Requirement already satisfied: beautifulsoup4 in /usr/local/lib/python3.6/dist-packages (4.6.3)\n"
          ],
          "name": "stdout"
        }
      ]
    },
    {
      "cell_type": "code",
      "metadata": {
        "id": "NZCskh5uamJJ",
        "colab_type": "code",
        "colab": {}
      },
      "source": [
        "import requests\n",
        "from bs4 import BeautifulSoup\n",
        "import pandas as pd\n",
        "\n",
        "URL = 'https://www.monster.com/jobs/search/?q=Software-Developer&where=Australia'\n",
        "page = requests.get(URL)\n",
        "\n",
        "soup = BeautifulSoup(page.content, 'html.parser')"
      ],
      "execution_count": 0,
      "outputs": []
    },
    {
      "cell_type": "code",
      "metadata": {
        "id": "ECLZLSvBbJvD",
        "colab_type": "code",
        "colab": {}
      },
      "source": [
        "results = soup.find(id='ResultsContainer')"
      ],
      "execution_count": 0,
      "outputs": []
    },
    {
      "cell_type": "code",
      "metadata": {
        "id": "1GRJl3uobkRT",
        "colab_type": "code",
        "colab": {}
      },
      "source": [
        "job_elems = results.find_all('section', class_='card-content')"
      ],
      "execution_count": 0,
      "outputs": []
    },
    {
      "cell_type": "code",
      "metadata": {
        "id": "gXy1eHqfb64z",
        "colab_type": "code",
        "outputId": "5103e270-5792-4bc2-e539-5413898e63d8",
        "colab": {
          "base_uri": "https://localhost:8080/",
          "height": 1000
        }
      },
      "source": [
        "for job_elem in job_elems:\n",
        "    # Each job_elem is a new BeautifulSoup object.\n",
        "    # You can use the same methods on it as you did before.\n",
        "    title_elem = job_elem.find('h2', class_='title')\n",
        "    company_elem = job_elem.find('div', class_='company')\n",
        "    location_elem = job_elem.find('div', class_='location')\n",
        "    if None in (title_elem, company_elem, location_elem):\n",
        "        continue\n",
        "    print(title_elem.text)\n",
        "    print(company_elem.text)\n",
        "    print(location_elem.text)\n",
        "    print()"
      ],
      "execution_count": 0,
      "outputs": [
        {
          "output_type": "stream",
          "text": [
            "SQL BI (SSRS, SSIS) developer for Blackboard - NYC\r\n",
            "\n",
            "\n",
            "LanceSoft Inc\n",
            "\n",
            "\n",
            "\n",
            "\n",
            "\r\n",
            "New york, WA\r\n",
            "\n",
            "\n",
            "\n",
            "Python Developer\r\n",
            "\n",
            "\n",
            "LanceSoft Inc\n",
            "\n",
            "\n",
            "\n",
            "\n",
            "\r\n",
            "Woodlands, WA\r\n",
            "\n",
            "\n",
            "\n",
            "Junior QA Analyst - Melbourne, Victoria\r\n",
            "\n",
            "\n",
            "Mediaocean\n",
            "\n",
            "\n",
            "\n",
            "\n",
            "\r\n",
            "Melbourne, VIC\r\n",
            "\n",
            "\n",
            "\n",
            "Test Analyst\r\n",
            "\n",
            "\n",
            "Dialog Group\n",
            "\n",
            "\n",
            "\n",
            "\n",
            "\r\n",
            "Canberra, ACT\r\n",
            "\n",
            "\n",
            "\n",
            "Test Consultant\r\n",
            "\n",
            "\n",
            "Dialog Group\n",
            "\n",
            "\n",
            "\n",
            "\n",
            "\r\n",
            "Brisbane, QLD\r\n",
            "\n",
            "\n",
            "\n",
            "Customer Experience Technical Analyst - Sydney, New South Wales\r\n",
            "\n",
            "\n",
            "Mediaocean\n",
            "\n",
            "\n",
            "\n",
            "\n",
            "\r\n",
            "Sydney, NSW\r\n",
            "\n",
            "\n",
            "\n",
            "Senior Practice Manager - IES (WA)\r\n",
            "\n",
            "\n",
            "Blue Ocean Ventures\n",
            "\n",
            "\n",
            "\n",
            "\n",
            "\r\n",
            "New York, WA\r\n",
            "\n",
            "\n",
            "\n",
            "Enterprise Account Executive\r\n",
            "\n",
            "\n",
            "Zuora\n",
            "\n",
            "\n",
            "\n",
            "\n",
            "\r\n",
            "Sydney, NSW\r\n",
            "\n",
            "\n",
            "\n",
            "Senior Automation Tester\r\n",
            "\n",
            "\n",
            "Dialog Group\n",
            "\n",
            "\n",
            "\n",
            "\n",
            "\r\n",
            "Canberra, ACT\r\n",
            "\n",
            "\n",
            "\n",
            "Software Developer (C# / ASP.NET) - Healthcare Software Company\r\n",
            "\n",
            "\n",
            "CyberCoders\n",
            "\n",
            "\n",
            "\n",
            "\n",
            "\r\n",
            "Chesterfield, MO\r\n",
            "\n",
            "\n",
            "\n"
          ],
          "name": "stdout"
        }
      ]
    },
    {
      "cell_type": "code",
      "metadata": {
        "id": "xLY7rymPfGL7",
        "colab_type": "code",
        "outputId": "12fff0e3-c8cc-41d3-c450-e65324f39ab8",
        "colab": {
          "base_uri": "https://localhost:8080/",
          "height": 370
        }
      },
      "source": [
        "title = []\n",
        "apply_link = []\n",
        "python_jobs = results.find_all('h2',string=lambda text: 'c' in text.lower())\n",
        "for p_job in python_jobs:\n",
        "    link = p_job.find('a')['href']    \n",
        "    name = p_job.text.strip()\n",
        "    title.append(name)\n",
        "    apply_link.append(link)\n",
        "    print(name)\n",
        "    print(f\"Apply here: {link}\\n\")"
      ],
      "execution_count": 0,
      "outputs": [
        {
          "output_type": "stream",
          "text": [
            "SQL BI (SSRS, SSIS) developer for Blackboard - NYC\n",
            "Apply here: https://job-openings.monster.com/sql-bi-ssrs-ssis-developer-for-blackboard-nyc-new-york-wa-us-lancesoft-inc/56d17f16-f07d-4271-abda-b80155837c80\n",
            "\n",
            "Junior QA Analyst - Melbourne, Victoria\n",
            "Apply here: https://job-openings.monster.com/junior-qa-analyst-melbourne-victoria-melbourne-vic-us-mediaocean/fcb03051-f03f-4d58-8198-09bcd25371db\n",
            "\n",
            "Test Consultant\n",
            "Apply here: https://job-openings.monster.com/test-consultant-brisbane-qld-us-dialog-group/7a5ff034-457e-4b80-91e1-5aabe5e4d462\n",
            "\n",
            "Customer Experience Technical Analyst - Sydney, New South Wales\n",
            "Apply here: https://job-openings.monster.com/customer-experience-technical-analyst-sydney-new-south-wales-sydney-nsw-us-mediaocean/009c9418-f3f2-489e-b1fd-12b5189ff204\n",
            "\n",
            "Senior Practice Manager - IES (WA)\n",
            "Apply here: https://job-openings.monster.com/senior-practice-manager-ies-wa-new-york-wa-us-blue-ocean-ventures/dceff465-7b62-4307-98eb-92caaa724500\n",
            "\n",
            "Enterprise Account Executive\n",
            "Apply here: https://job-openings.monster.com/enterprise-account-executive-sydney-nsw-us-zuora/80a13356-9546-4cca-86ac-634a346ac936\n",
            "\n",
            "Software Developer (C# / ASP.NET) - Healthcare Software Company\n",
            "Apply here: https://job-openings.monster.com/software-developer-c-asp-net-healthcare-software-company-chesterfield-mo-us-cybercoders/217263127\n",
            "\n"
          ],
          "name": "stdout"
        }
      ]
    },
    {
      "cell_type": "code",
      "metadata": {
        "id": "9b-5-Y2rgM9O",
        "colab_type": "code",
        "outputId": "d0fb831e-fa1e-41ab-f2d9-64e88fb48a0a",
        "colab": {
          "base_uri": "https://localhost:8080/",
          "height": 70
        }
      },
      "source": [
        "print(title)\n",
        "print(apply_link)"
      ],
      "execution_count": 0,
      "outputs": [
        {
          "output_type": "stream",
          "text": [
            "['SQL BI (SSRS, SSIS) developer for Blackboard - NYC', 'Junior QA Analyst - Melbourne, Victoria', 'Test Consultant', 'Customer Experience Technical Analyst - Sydney, New South Wales', 'Senior Practice Manager - IES (WA)', 'Enterprise Account Executive', 'Software Developer (C# / ASP.NET) - Healthcare Software Company']\n",
            "['https://job-openings.monster.com/sql-bi-ssrs-ssis-developer-for-blackboard-nyc-new-york-wa-us-lancesoft-inc/56d17f16-f07d-4271-abda-b80155837c80', 'https://job-openings.monster.com/junior-qa-analyst-melbourne-victoria-melbourne-vic-us-mediaocean/fcb03051-f03f-4d58-8198-09bcd25371db', 'https://job-openings.monster.com/test-consultant-brisbane-qld-us-dialog-group/7a5ff034-457e-4b80-91e1-5aabe5e4d462', 'https://job-openings.monster.com/customer-experience-technical-analyst-sydney-new-south-wales-sydney-nsw-us-mediaocean/009c9418-f3f2-489e-b1fd-12b5189ff204', 'https://job-openings.monster.com/senior-practice-manager-ies-wa-new-york-wa-us-blue-ocean-ventures/dceff465-7b62-4307-98eb-92caaa724500', 'https://job-openings.monster.com/enterprise-account-executive-sydney-nsw-us-zuora/80a13356-9546-4cca-86ac-634a346ac936', 'https://job-openings.monster.com/software-developer-c-asp-net-healthcare-software-company-chesterfield-mo-us-cybercoders/217263127']\n"
          ],
          "name": "stdout"
        }
      ]
    },
    {
      "cell_type": "code",
      "metadata": {
        "id": "E5wzzMT0gaa9",
        "colab_type": "code",
        "outputId": "7b89c60b-5cbb-4ae8-ee2a-b70094191b96",
        "colab": {
          "base_uri": "https://localhost:8080/",
          "height": 254
        }
      },
      "source": [
        "df = pd.DataFrame({'Job_Role':title,'Job_Link':apply_link}) \n",
        "df.to_csv('jobs.csv')\n",
        "df\n"
      ],
      "execution_count": 0,
      "outputs": [
        {
          "output_type": "execute_result",
          "data": {
            "text/html": [
              "<div>\n",
              "<style scoped>\n",
              "    .dataframe tbody tr th:only-of-type {\n",
              "        vertical-align: middle;\n",
              "    }\n",
              "\n",
              "    .dataframe tbody tr th {\n",
              "        vertical-align: top;\n",
              "    }\n",
              "\n",
              "    .dataframe thead th {\n",
              "        text-align: right;\n",
              "    }\n",
              "</style>\n",
              "<table border=\"1\" class=\"dataframe\">\n",
              "  <thead>\n",
              "    <tr style=\"text-align: right;\">\n",
              "      <th></th>\n",
              "      <th>Job_Role</th>\n",
              "      <th>Job_Link</th>\n",
              "    </tr>\n",
              "  </thead>\n",
              "  <tbody>\n",
              "    <tr>\n",
              "      <th>0</th>\n",
              "      <td>SQL BI (SSRS, SSIS) developer for Blackboard -...</td>\n",
              "      <td>https://job-openings.monster.com/sql-bi-ssrs-s...</td>\n",
              "    </tr>\n",
              "    <tr>\n",
              "      <th>1</th>\n",
              "      <td>Junior QA Analyst - Melbourne, Victoria</td>\n",
              "      <td>https://job-openings.monster.com/junior-qa-ana...</td>\n",
              "    </tr>\n",
              "    <tr>\n",
              "      <th>2</th>\n",
              "      <td>Test Consultant</td>\n",
              "      <td>https://job-openings.monster.com/test-consulta...</td>\n",
              "    </tr>\n",
              "    <tr>\n",
              "      <th>3</th>\n",
              "      <td>Customer Experience Technical Analyst - Sydney...</td>\n",
              "      <td>https://job-openings.monster.com/customer-expe...</td>\n",
              "    </tr>\n",
              "    <tr>\n",
              "      <th>4</th>\n",
              "      <td>Senior Practice Manager - IES (WA)</td>\n",
              "      <td>https://job-openings.monster.com/senior-practi...</td>\n",
              "    </tr>\n",
              "    <tr>\n",
              "      <th>5</th>\n",
              "      <td>Enterprise Account Executive</td>\n",
              "      <td>https://job-openings.monster.com/enterprise-ac...</td>\n",
              "    </tr>\n",
              "    <tr>\n",
              "      <th>6</th>\n",
              "      <td>Software Developer (C# / ASP.NET) - Healthcare...</td>\n",
              "      <td>https://job-openings.monster.com/software-deve...</td>\n",
              "    </tr>\n",
              "  </tbody>\n",
              "</table>\n",
              "</div>"
            ],
            "text/plain": [
              "                                            Job_Role                                           Job_Link\n",
              "0  SQL BI (SSRS, SSIS) developer for Blackboard -...  https://job-openings.monster.com/sql-bi-ssrs-s...\n",
              "1            Junior QA Analyst - Melbourne, Victoria  https://job-openings.monster.com/junior-qa-ana...\n",
              "2                                    Test Consultant  https://job-openings.monster.com/test-consulta...\n",
              "3  Customer Experience Technical Analyst - Sydney...  https://job-openings.monster.com/customer-expe...\n",
              "4                 Senior Practice Manager - IES (WA)  https://job-openings.monster.com/senior-practi...\n",
              "5                       Enterprise Account Executive  https://job-openings.monster.com/enterprise-ac...\n",
              "6  Software Developer (C# / ASP.NET) - Healthcare...  https://job-openings.monster.com/software-deve..."
            ]
          },
          "metadata": {
            "tags": []
          },
          "execution_count": 25
        }
      ]
    }
  ]
}